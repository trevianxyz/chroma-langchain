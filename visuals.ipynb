{
 "cells": [
  {
   "cell_type": "code",
   "execution_count": null,
   "metadata": {},
   "outputs": [],
   "source": [
    "from pandas.plotting import scatter_matrix\n",
    "\n",
    "df = pd.DataFrame(np.random.randn(1000, 4), columns=[\"a\", \"b\", \"c\", \"d\"])\n",
    "\n",
    "scatter_matrix(df, alpha=0.2, figsize=(6, 6), diagonal=\"kde\");"
   ]
  },
  {
   "cell_type": "code",
   "execution_count": null,
   "metadata": {},
   "outputs": [],
   "source": [
    "import pandas as pd\n",
    "\n",
    "# Convert the CSV data to a DataFrame\n",
    "q4 = pd.read_csv('quotes.csv')\n",
    "\n",
    "# Drop the unwanted columns\n",
    "q5 = q4.drop(['one', 'two', 'start_time', 'end_time', 'speaker_id'], axis=1)\n",
    "\n",
    "q5 = q5[q5['speaker_name'] != 'JM']\n",
    "\n",
    "q5.to_csv('updated_quotes.csv', index=False)\n",
    "# Print the updated DataFrame\n",
    "print(q5)\n"
   ]
  }
 ],
 "metadata": {
  "kernelspec": {
   "display_name": "Python 3",
   "language": "python",
   "name": "python3"
  },
  "language_info": {
   "name": "python",
   "version": "3.10.12"
  },
  "orig_nbformat": 4
 },
 "nbformat": 4,
 "nbformat_minor": 2
}
